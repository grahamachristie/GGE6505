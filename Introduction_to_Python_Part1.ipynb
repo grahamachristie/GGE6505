{
  "cells": [
    {
      "cell_type": "markdown",
      "metadata": {
        "id": "view-in-github",
        "colab_type": "text"
      },
      "source": [
        "<a href=\"https://colab.research.google.com/github/grahamachristie/GGE6505/blob/main/Introduction_to_Python_Part1.ipynb\" target=\"_parent\"><img src=\"https://colab.research.google.com/assets/colab-badge.svg\" alt=\"Open In Colab\"/></a>"
      ]
    },
    {
      "cell_type": "markdown",
      "metadata": {
        "id": "IFLogjs-S9dd"
      },
      "source": [
        "# GGE-5405/6505 Big Data\n",
        "\n",
        "# **Intro to Python - Part 1**\n",
        "\n"
      ]
    },
    {
      "cell_type": "markdown",
      "metadata": {
        "id": "ZngaIurUPa7v"
      },
      "source": [
        "\n",
        "\n",
        "---\n",
        "\n"
      ]
    },
    {
      "cell_type": "markdown",
      "metadata": {
        "id": "eiOZ4fn7dhQv"
      },
      "source": [
        "# **1. Introduction to Google Colab**\n",
        "---- *adapted from the original notebook* [Overview of Colaboratory Features](https://colab.research.google.com/notebooks/basic_features_overview.ipynb)"
      ]
    },
    {
      "cell_type": "markdown",
      "metadata": {
        "id": "T9lowDfpd4r2"
      },
      "source": [
        "Why Google Colab? \n",
        "\n",
        "*   Can access GPU for enhanced processing\n",
        "*   Many common python libraries pre-installed\n",
        "*   Built on top Jupyter Notebook\n",
        "*   Basic use is free of charge\n",
        "*   Supports Bash commands\n",
        "*   Can store on Drive or GitHub, good for collaboration\n",
        "\n",
        "\n",
        "\n",
        "\n",
        "\n",
        "\n",
        "\n",
        "\n",
        "**NOTE**: Check out the [Google Colab FAQ](https://research.google.com/colaboratory/faq.html) page for a good overview of the platform and a description of its uses and capabilities.\n",
        "\n",
        "\n"
      ]
    },
    {
      "cell_type": "markdown",
      "metadata": {
        "id": "klSFWjpndcz-"
      },
      "source": [
        "## Cells\n",
        "A notebook is a list of cells. Cells contain either explanatory text or executable code and its output. Click a cell to select it."
      ]
    },
    {
      "cell_type": "markdown",
      "metadata": {
        "id": "VbJrbgqHdpVO"
      },
      "source": [
        "### Code cells\n",
        "Below is a **code cell**. Click in the cell to select it and execute the contents in the following ways:\n",
        "\n",
        "* Click the **Play icon** in the left gutter of the cell;\n",
        "* Type **Cmd/Ctrl+Enter** to run the cell in place;\n",
        "* Type **Shift+Enter** to run the cell and move focus to the next cell (adding one if none exists); or\n",
        "* Type **Alt+Enter** to run the cell and insert a new code cell immediately below it.\n",
        "\n",
        "There are additional options for running some or all cells in the **Runtime** menu."
      ]
    },
    {
      "cell_type": "code",
      "execution_count": null,
      "metadata": {
        "id": "hx7BuuIXdtIP"
      },
      "outputs": [],
      "source": [
        "a = 10\n",
        "a"
      ]
    },
    {
      "cell_type": "markdown",
      "metadata": {
        "id": "jk2JNNqrwHAf"
      },
      "source": [
        "Note that we have just created a variable called 'a' which now shows up in the 'Variables' tab to the left."
      ]
    },
    {
      "cell_type": "markdown",
      "metadata": {
        "id": "fCovsD3sduUk"
      },
      "source": [
        "### Text cells\n",
        "This is a **text cell**. You can **double-click** to edit this cell. Text cells\n",
        "use markdown syntax. To learn more, see our [markdown\n",
        "guide](/notebooks/markdown_guide.ipynb)."
      ]
    },
    {
      "cell_type": "markdown",
      "metadata": {
        "id": "BQMAmTETd3XD"
      },
      "source": [
        "### Adding and moving cells\n",
        "You can add new cells by using the **+ CODE** and **+ TEXT** buttons that show when you hover between cells. These buttons are also in the toolbar above the notebook where they can be used to add a cell below the currently selected cell.\n",
        "\n",
        "You can move a cell by selecting it and clicking **Cell Up** or **Cell Down** in the top toolbar. \n",
        "\n",
        "Consecutive cells can be selected by \"lasso selection\" by dragging from outside one cell and through the group.  Non-adjacent cells can be selected concurrently by clicking one and then holding down Ctrl while clicking another.  Similarly, using Shift instead of Ctrl will select all intermediate cells."
      ]
    },
    {
      "cell_type": "markdown",
      "metadata": {
        "id": "dNNCveDAiO_W"
      },
      "source": [
        "## Setting the GPU Accelerator"
      ]
    },
    {
      "cell_type": "markdown",
      "metadata": {
        "id": "5CNRD5y8hRxr"
      },
      "source": [
        "With Google Colab, you have the option to use CPU or GPU. By default, Google Colab uses CPU. To change to GPU, do the following:\n",
        "\n",
        "```\n",
        "1. Click on ‘Edit’ > ‘Notebook Settings’ > ‘Hardware Accelerator’ > ‘GPU’.\n",
        "\n",
        "OR\n",
        "\n",
        "2. Click on ‘Runtime’ > ‘Change Runtime Type’ > 'Hardware Accelerator' > ‘GPU’.\n",
        "\n",
        "```\n",
        "\n",
        "Wen running a cell, make sure the runtime is connected. The notebook shows a green check and ‘Connected’ on the top right corner.\n",
        "There are various runtime options in ‘Runtime’.\n"
      ]
    },
    {
      "cell_type": "markdown",
      "metadata": {
        "id": "Bm_-TPSnel8Y"
      },
      "source": [
        "## Coding in Google Colab"
      ]
    },
    {
      "cell_type": "markdown",
      "metadata": {
        "id": "Xn98mOgWetzO"
      },
      "source": [
        "Long running python processes can be interrupted. Run the following cell and select Runtime -> Interrupt execution (hotkey: Cmd/Ctrl-M I) to stop execution."
      ]
    },
    {
      "cell_type": "code",
      "execution_count": 1,
      "metadata": {
        "id": "JF8LtDGWeudU",
        "colab": {
          "base_uri": "https://localhost:8080/",
          "height": 235
        },
        "outputId": "98b45f49-fbd3-4683-89eb-716fef748a21"
      },
      "outputs": [
        {
          "output_type": "stream",
          "name": "stdout",
          "text": [
            "Sleeping\n"
          ]
        },
        {
          "output_type": "error",
          "ename": "KeyboardInterrupt",
          "evalue": "ignored",
          "traceback": [
            "\u001b[0;31m---------------------------------------------------------------------------\u001b[0m",
            "\u001b[0;31mKeyboardInterrupt\u001b[0m                         Traceback (most recent call last)",
            "\u001b[0;32m<ipython-input-1-fb6d98dc021a>\u001b[0m in \u001b[0;36m<module>\u001b[0;34m\u001b[0m\n\u001b[1;32m      1\u001b[0m \u001b[0;32mimport\u001b[0m \u001b[0mtime\u001b[0m\u001b[0;34m\u001b[0m\u001b[0;34m\u001b[0m\u001b[0m\n\u001b[1;32m      2\u001b[0m \u001b[0mprint\u001b[0m\u001b[0;34m(\u001b[0m\u001b[0;34m\"Sleeping\"\u001b[0m\u001b[0;34m)\u001b[0m\u001b[0;34m\u001b[0m\u001b[0;34m\u001b[0m\u001b[0m\n\u001b[0;32m----> 3\u001b[0;31m \u001b[0mtime\u001b[0m\u001b[0;34m.\u001b[0m\u001b[0msleep\u001b[0m\u001b[0;34m(\u001b[0m\u001b[0;36m30\u001b[0m\u001b[0;34m)\u001b[0m \u001b[0;31m# sleep for a while; interrupt me!\u001b[0m\u001b[0;34m\u001b[0m\u001b[0;34m\u001b[0m\u001b[0m\n\u001b[0m\u001b[1;32m      4\u001b[0m \u001b[0mprint\u001b[0m\u001b[0;34m(\u001b[0m\u001b[0;34m\"Done Sleeping\"\u001b[0m\u001b[0;34m)\u001b[0m\u001b[0;34m\u001b[0m\u001b[0;34m\u001b[0m\u001b[0m\n",
            "\u001b[0;31mKeyboardInterrupt\u001b[0m: "
          ]
        }
      ],
      "source": [
        "import time\n",
        "print(\"Sleeping\")\n",
        "time.sleep(30) # sleep for a while; interrupt me!\n",
        "print(\"Done Sleeping\")"
      ]
    },
    {
      "cell_type": "markdown",
      "metadata": {
        "id": "6EOTz1OMi0lJ"
      },
      "source": [
        "Bash commands can be used in Code cells by prefixing with '!'"
      ]
    },
    {
      "cell_type": "code",
      "execution_count": 2,
      "metadata": {
        "id": "K2dZjwhyjSMh",
        "colab": {
          "base_uri": "https://localhost:8080/"
        },
        "outputId": "dec94086-3b77-4361-ce1f-a6ccaf5a006e"
      },
      "outputs": [
        {
          "output_type": "stream",
          "name": "stdout",
          "text": [
            "/content\n"
          ]
        }
      ],
      "source": [
        "# check what path we are in\n",
        "!pwd"
      ]
    },
    {
      "cell_type": "code",
      "execution_count": 3,
      "metadata": {
        "id": "Ut4Hn4pvi7Nu",
        "colab": {
          "base_uri": "https://localhost:8080/"
        },
        "outputId": "4d2304a9-a93a-41e3-9980-5691b0f8db9c"
      },
      "outputs": [
        {
          "output_type": "stream",
          "name": "stdout",
          "text": [
            "sample_data\n"
          ]
        }
      ],
      "source": [
        "# list contents\n",
        "!ls"
      ]
    },
    {
      "cell_type": "code",
      "execution_count": 4,
      "metadata": {
        "id": "diI65qefkOV-",
        "colab": {
          "base_uri": "https://localhost:8080/"
        },
        "outputId": "ae5f6343-8be8-4007-efde-31836396e227"
      },
      "outputs": [
        {
          "output_type": "stream",
          "name": "stdout",
          "text": [
            "demo2  sample_data\n"
          ]
        }
      ],
      "source": [
        "# make a new directory\n",
        "!mkdir demo2\n",
        "!ls"
      ]
    },
    {
      "cell_type": "code",
      "execution_count": 5,
      "metadata": {
        "id": "GknDqCHHxSFy",
        "colab": {
          "base_uri": "https://localhost:8080/"
        },
        "outputId": "9aa910af-7e12-4c27-8b97-1f5206e24280"
      },
      "outputs": [
        {
          "output_type": "stream",
          "name": "stdout",
          "text": [
            "Python 3.8.10\n"
          ]
        }
      ],
      "source": [
        "# check python version\n",
        "!python --version"
      ]
    },
    {
      "cell_type": "markdown",
      "metadata": {
        "id": "SEI7UhoyWvbe"
      },
      "source": [
        "## Saving colab notebook to GitHub\n",
        "\n",
        "You can save your notebook on google drive, download it to your machine, or save a copy to GitHub. For this course, we will be using GitHub to share content. If you do not have a GitHub account, you can go to https://github.com/join and follow the instructions to create an account. \n",
        "\n",
        "\n",
        "To create a repository:\n",
        "\n",
        "\n",
        "1. Open your GitHub account.\n",
        "2. Click on the + sign in the top right corner of the page.\n",
        "3. Create a name for your repository and add a description.\n",
        "4. Choose if repository will be public or private.\n",
        "5. Select 'Add a README file' option to initialize the repo.\n",
        "6. Click 'Create Repository'.\n",
        "\n",
        "Now that you have a repository created for the class, you can save your colab notebooks to github and share it with others. Note that if your repo is private, you will need to add members to your repo to be able to share your notebooks and other content.\n"
      ]
    },
    {
      "cell_type": "markdown",
      "metadata": {
        "id": "7lUPFiepe1l0"
      },
      "source": [
        "\n",
        "\n",
        "---\n",
        "\n",
        "\n",
        "\n",
        "---\n",
        "\n"
      ]
    },
    {
      "cell_type": "markdown",
      "metadata": {
        "id": "rdTeVUPnFP_k"
      },
      "source": [
        "# **2. Introduction to Python Programming Language**"
      ]
    },
    {
      "cell_type": "markdown",
      "metadata": {
        "id": "1pUdXMVeF5sY"
      },
      "source": [
        "This tutorial offers a basic introduction to Python syntax, variable assignment, and basic operations.\n",
        "\n",
        "\n",
        "\n",
        "Just for fun, try reading over the code below and predicting what it's going to do when run. (If you have no idea, that's fine!)\n",
        "\n",
        "\n",
        "\n",
        "Python is a high-level, dynamic programming language. Python code is often said to be almost like **pseudocode**, since it allows you to express very powerful ideas in very few lines of code while being very readable. \n",
        "\n",
        "\n",
        "There are currently two different supported versions of Python, 2.7 and 3.7. Somewhat confusingly, Python 3.7 introduced many backwards-incompatible changes to the language, so code written for 2.7 may not work under 3.7 and vice versa. For this laboratory all code will use Python 3.7+. The latest python version can be found here: https://www.python.org/downloads/\n"
      ]
    },
    {
      "cell_type": "markdown",
      "metadata": {
        "id": "jLyesbj-3li7"
      },
      "source": [
        "## **Variables and Types**\n",
        "Python is not \"statically-typed\". This means you do not have to declare all your variables before you can use them. You can create new variables whenever you want.\n",
        "\n",
        "```\n",
        "A variable is a symbolic name that 'points' to an object.\n",
        "```\n",
        "\n",
        "Lets go through some basic syntax when working with variables:"
      ]
    },
    {
      "cell_type": "markdown",
      "metadata": {
        "id": "3lHRdqdb5XNh"
      },
      "source": [
        "\n",
        "```\n",
        "\n",
        "*   To assign a variable with a specific value, use `=`\n",
        "\n",
        "      *  A variable name must start with a letter or the underscore character.\n",
        "      *  A variable name cannot start with a number.\n",
        "      *  A variable name can only contain alpha-numeric characters and underscores (A-z, 0-9, and _ ).\n",
        "      *  Variable names are case-sensitive (name, Name and NAME are three different variables).\n",
        "      *  The reserved words(keywords) cannot be used naming the variable. https://realpython.com/lessons/reserved-keywords/\n",
        "\n",
        "\n",
        "```\n",
        "\n",
        "\n",
        "\n"
      ]
    },
    {
      "cell_type": "markdown",
      "metadata": {
        "id": "lU1tu-BB5K50"
      },
      "source": [
        "```\n",
        "*   To test whether a variable has a specific value, use the boolean operators:\n",
        "        equal: `==`\n",
        "        not equal: `!=`\n",
        "        greater-than: `>`\n",
        "        less-than: '<'\n",
        "```"
      ]
    },
    {
      "cell_type": "markdown",
      "metadata": {
        "id": "h5WCpPT55agB"
      },
      "source": [
        "```\n",
        "*   comments: You can also add helpful comments to your code with the `#` symbol. Any line starting with a `#` is not executed. \n",
        "```"
      ]
    },
    {
      "cell_type": "code",
      "execution_count": null,
      "metadata": {
        "id": "5QhLeJNr6Z6a"
      },
      "outputs": [],
      "source": [
        "# This is a comment\n",
        "# If you execute this cell, nothing will happen!"
      ]
    },
    {
      "cell_type": "markdown",
      "metadata": {
        "id": "Ir0ay_e658Va"
      },
      "source": [
        "### **1. Numeric** \n",
        "\n",
        "Common numeric data types supported by python incude integers and floating point numbers. Integers are whole numbers (e.g. 9), while floats are fractional (e.g. 9.321). You can also convert integers to floats, and vice versa, but you need to be aware of the risks of doing so."
      ]
    },
    {
      "cell_type": "markdown",
      "metadata": {
        "id": "Lwedb0X7EI4w"
      },
      "source": [
        "\n",
        "**Follow along with the code below.**\n",
        "\n",
        "*Note: A green check to the left of the code cell indicates that the cell has been run successfully.*"
      ]
    },
    {
      "cell_type": "code",
      "execution_count": null,
      "metadata": {
        "id": "CJ2A6g7u372e"
      },
      "outputs": [],
      "source": [
        "# Create a variable named 'intnum' and assign it the integer value 7\n",
        "intnum = 7"
      ]
    },
    {
      "cell_type": "code",
      "execution_count": null,
      "metadata": {
        "id": "hBFKj5Z8Defr"
      },
      "outputs": [],
      "source": [
        "# Check the data type using type()\n",
        "type(intnum)"
      ]
    },
    {
      "cell_type": "code",
      "execution_count": null,
      "metadata": {
        "id": "5EtmVidW38Ih"
      },
      "outputs": [],
      "source": [
        "# Create a variable named 'floatnum' and assign it the floating point value 7.4\n",
        "floatnum = 7.4\n",
        "type(floatnum)"
      ]
    },
    {
      "cell_type": "code",
      "execution_count": null,
      "metadata": {
        "id": "KmGY9WyKDYVt"
      },
      "outputs": [],
      "source": [
        "# Or you could convert the integer you already have\n",
        "int_to_float = float(intnum)\n",
        "int_to_float"
      ]
    },
    {
      "cell_type": "code",
      "execution_count": null,
      "metadata": {
        "id": "G7F4Y9eMbm4K"
      },
      "outputs": [],
      "source": [
        "# Check the new data type\n",
        "type(int_to_float)"
      ]
    },
    {
      "cell_type": "code",
      "execution_count": null,
      "metadata": {
        "id": "17-CaILt38X7"
      },
      "outputs": [],
      "source": [
        "# Now see what happens when you convert a float to an int\n",
        "float_to_int = int(7.3)\n",
        "float_to_int"
      ]
    },
    {
      "cell_type": "markdown",
      "metadata": {
        "id": "2IvmClm3GGPk"
      },
      "source": [
        "We can use print() to display the value of a variable on the screen. "
      ]
    },
    {
      "cell_type": "code",
      "execution_count": null,
      "metadata": {
        "id": "e2UkGCikGMnT"
      },
      "outputs": [],
      "source": [
        "intnum = 7\n",
        "floatnum = 7.4\n",
        "\n",
        "print(intnum)\n",
        "print(floatnum)"
      ]
    },
    {
      "cell_type": "markdown",
      "metadata": {
        "id": "gyhmhl15HDXZ"
      },
      "source": [
        "This is especially useful to display multiple things at once. Note that when using print(), text must be inside quotation marks."
      ]
    },
    {
      "cell_type": "code",
      "execution_count": null,
      "metadata": {
        "id": "S5XGR95aHBMb"
      },
      "outputs": [],
      "source": [
        "intnum = 7\n",
        "floatnum = 7.4\n",
        "\n",
        "print(intnum, \"is an integer and\",floatnum,\"is a floating point number.\")"
      ]
    },
    {
      "cell_type": "markdown",
      "metadata": {
        "id": "QXzyhdZ-J4xp"
      },
      "source": [
        "Other ways to format your print() command:"
      ]
    },
    {
      "cell_type": "code",
      "execution_count": null,
      "metadata": {
        "id": "dVwJVQaLJXs3"
      },
      "outputs": [],
      "source": [
        "intnum = 3\n",
        "print(\"My lucky number is: {}\".format(intnum))"
      ]
    },
    {
      "cell_type": "markdown",
      "metadata": {
        "id": "OXskcHDdHsiI"
      },
      "source": [
        "If a variable is assigned a value more than once, it will take the last value assigned."
      ]
    },
    {
      "cell_type": "code",
      "execution_count": null,
      "metadata": {
        "id": "flpiuuV1H31Z"
      },
      "outputs": [],
      "source": [
        "intnum = 7\n",
        "intnum = 8\n",
        "\n",
        "print(intnum)"
      ]
    },
    {
      "cell_type": "markdown",
      "metadata": {
        "id": "6XC0LHQ9IjLQ"
      },
      "source": [
        "We can also assign values to two variables at the same time."
      ]
    },
    {
      "cell_type": "code",
      "execution_count": null,
      "metadata": {
        "id": "BI__JFhIIdTS"
      },
      "outputs": [],
      "source": [
        "intnum, floatnum = 3, 3.\n",
        "print(intnum, floatnum)"
      ]
    },
    {
      "cell_type": "code",
      "execution_count": null,
      "metadata": {
        "id": "ww1C52jA9sEk"
      },
      "outputs": [],
      "source": [
        "type(intnum)"
      ]
    },
    {
      "cell_type": "code",
      "execution_count": null,
      "metadata": {
        "id": "U6A-pW339uch"
      },
      "outputs": [],
      "source": [
        "type(floatnum)"
      ]
    },
    {
      "cell_type": "markdown",
      "metadata": {
        "id": "NCKoNUnVENjW"
      },
      "source": [
        "#### **Arithmetic operators**\n",
        "As you would expect, you can use the various mathematical operators with numbers (both integers and floats)."
      ]
    },
    {
      "cell_type": "code",
      "execution_count": null,
      "metadata": {
        "id": "TxYCYtMODxeC"
      },
      "outputs": [],
      "source": [
        "# Does Python follow order operations hierarchy?\n",
        "num1 = 1 + 2 * 3 / 2.0\n",
        "num2 = (1 + 2) * 3 / 2.0\n",
        "print(num1, num2)"
      ]
    },
    {
      "cell_type": "code",
      "execution_count": null,
      "metadata": {
        "id": "HhmPaNVHIP4z"
      },
      "outputs": [],
      "source": [
        "# The modulo (%) returns the integer remainder of a division\n",
        "remainder = 11 % 3\n",
        "print(remainder)"
      ]
    },
    {
      "cell_type": "code",
      "execution_count": null,
      "metadata": {
        "id": "VuBDNB2BIYXU"
      },
      "outputs": [],
      "source": [
        "one = 1\n",
        "two = 2\n",
        "three = one + two\n",
        "print(three)"
      ]
    },
    {
      "cell_type": "code",
      "execution_count": null,
      "metadata": {
        "id": "ASP0cAXGIh6_"
      },
      "outputs": [],
      "source": [
        "# Two multiplications is equivalent to a power operation\n",
        "squared = 7 ** 2\n",
        "print(squared)"
      ]
    },
    {
      "cell_type": "markdown",
      "metadata": {
        "id": "IjZOopaI4xMj"
      },
      "source": [
        "###**2. Booleans**\n",
        "Boolean data type is a data type that has one of two possible values which is intended to represent the two truth values of logic: if an expression is True or False."
      ]
    },
    {
      "cell_type": "code",
      "execution_count": null,
      "metadata": {
        "id": "aY5V07pN4Ojz"
      },
      "outputs": [],
      "source": [
        "print(4 < 7)"
      ]
    },
    {
      "cell_type": "code",
      "execution_count": null,
      "metadata": {
        "id": "uqE5d3YvI5zq"
      },
      "outputs": [],
      "source": [
        "a = 6\n",
        "print(a > 4)"
      ]
    },
    {
      "cell_type": "code",
      "execution_count": null,
      "metadata": {
        "id": "ulh0Ec-H8M0j"
      },
      "outputs": [],
      "source": [
        "a == 7"
      ]
    },
    {
      "cell_type": "code",
      "execution_count": null,
      "metadata": {
        "id": "S7nbZzgu8cmP"
      },
      "outputs": [],
      "source": [
        "a < 7"
      ]
    },
    {
      "cell_type": "markdown",
      "metadata": {
        "id": "Uu5_CLPl6nn-"
      },
      "source": [
        "### **3. Strings**\n",
        "Strings are the Python term for text. You can define these in either single or double quotes.\n",
        "\n"
      ]
    },
    {
      "cell_type": "code",
      "execution_count": null,
      "metadata": {
        "id": "EVeyeSD438lR"
      },
      "outputs": [],
      "source": [
        "mystring = \"Hello Class and Happy Tuesday!\"\n",
        "print(mystring)"
      ]
    },
    {
      "cell_type": "markdown",
      "metadata": {
        "id": "Bcs4I2ky6yTy"
      },
      "source": [
        "You can also apply simple operators to your string variables, or assign multiple variables simultaneously.\n"
      ]
    },
    {
      "cell_type": "code",
      "execution_count": null,
      "metadata": {
        "id": "tNgxYzdg60RD"
      },
      "outputs": [],
      "source": [
        "# In this example, we concatenate two string variables to form a new variable\n",
        "hello = \"Hello,\"\n",
        "world = \"World!\"\n",
        "helloworld = hello + \" \" + world\n",
        "print(helloworld)\n"
      ]
    },
    {
      "cell_type": "markdown",
      "metadata": {
        "id": "Kv8fmSuV63iZ"
      },
      "source": [
        "Note, though, that mixing variable types causes problems."
      ]
    },
    {
      "cell_type": "code",
      "execution_count": null,
      "metadata": {
        "id": "zcvqcDWL674T"
      },
      "outputs": [],
      "source": [
        "one = 1\n",
        "two = 2\n",
        "print(one + two + hello)\n",
        "type()"
      ]
    },
    {
      "cell_type": "markdown",
      "metadata": {
        "id": "qMFqsZHY6_ox"
      },
      "source": [
        "Python will throw an error when you make a mistake like this and the error will give you as much detail as it can about what just happened. This is extremely useful when you're attempting to \"debug\" your code.\n",
        "\n",
        "In this case, you're told: `TypeError: unsupported operand type(s) for +: 'int'` `and 'str'`\n",
        "\n",
        "And the context should make it clear that you tried to combine two integer variables with a string.\n",
        "\n",
        "You can also combine strings with placeholders for variables:\n",
        "\n"
      ]
    },
    {
      "cell_type": "code",
      "execution_count": null,
      "metadata": {
        "id": "SjJ7iAZ8BpT8"
      },
      "outputs": [],
      "source": [
        "print(one, two, hello)"
      ]
    },
    {
      "cell_type": "markdown",
      "metadata": {
        "id": "o74dS1G8KL1z"
      },
      "source": [
        "You can use len() to get the length of your variable (e.g., number of characters in a string)"
      ]
    },
    {
      "cell_type": "code",
      "execution_count": null,
      "metadata": {
        "id": "StaU2KR9Jccc"
      },
      "outputs": [],
      "source": [
        "a_string = \"Hello, World!\"\n",
        "len(a_string)"
      ]
    },
    {
      "cell_type": "code",
      "execution_count": null,
      "metadata": {
        "id": "paXbUURDWB5K"
      },
      "outputs": [],
      "source": [
        "print(\"String length: {}\".format(len(a_string)))"
      ]
    },
    {
      "cell_type": "markdown",
      "metadata": {
        "id": "ePkucMUkMlLT"
      },
      "source": [
        "Some more string operations:"
      ]
    },
    {
      "cell_type": "code",
      "execution_count": null,
      "metadata": {
        "id": "lbF9Jv_0EdRv"
      },
      "outputs": [],
      "source": [
        "# You've already seen arithmetic concatenations of strings\n",
        "helloworld = \"Hello,\" + \" \" + \"World!\"\n",
        "print(helloworld)"
      ]
    },
    {
      "cell_type": "code",
      "execution_count": null,
      "metadata": {
        "id": "KlxSkPCgMxNg"
      },
      "outputs": [],
      "source": [
        "# You can also multiply strings to form a repeating sequence\n",
        "manyhellos = \"Hello \" * 10\n",
        "print(manyhellos)"
      ]
    },
    {
      "cell_type": "code",
      "execution_count": null,
      "metadata": {
        "id": "gG2vwnlVM2g9"
      },
      "outputs": [],
      "source": [
        "# But don't get carried away. Not everything will work.\n",
        "nohellos = \"Hello \" / 10\n",
        "print(nohellos)"
      ]
    },
    {
      "cell_type": "code",
      "execution_count": null,
      "metadata": {
        "id": "Q0rAEd1pE4Vr"
      },
      "outputs": [],
      "source": [
        "# upper() and lower() are methods that work on strings\n",
        "# unlike a function, a 'method' is used on an object\n",
        "sent = \"The weather is Nice\"\n",
        "sent = sent.lower()\n",
        "sent"
      ]
    },
    {
      "cell_type": "code",
      "execution_count": null,
      "metadata": {
        "id": "OhZXhwxvXIZB"
      },
      "outputs": [],
      "source": [
        "sent = sent.upper()\n",
        "sent"
      ]
    },
    {
      "cell_type": "code",
      "execution_count": null,
      "metadata": {
        "id": "qp1qLPX6WyDy"
      },
      "outputs": [],
      "source": [
        "# you can use a boolean operation for verification\n",
        "print(sent.isupper())"
      ]
    },
    {
      "cell_type": "code",
      "execution_count": null,
      "metadata": {
        "id": "7ZOg3lIdXU9R"
      },
      "outputs": [],
      "source": [
        "# or include the entire operation within the print statement\n",
        "print(sent.upper().isupper())"
      ]
    },
    {
      "cell_type": "code",
      "execution_count": null,
      "metadata": {
        "id": "dxF1OFXwNQ2S"
      },
      "outputs": [],
      "source": [
        "# print(sent.upper())\n",
        "print(sent.lower())\n",
        "print(sent.lower().isupper())\n",
        "print(len(sent))"
      ]
    },
    {
      "cell_type": "code",
      "execution_count": null,
      "metadata": {
        "id": "CC2zU8LtPbim"
      },
      "outputs": [],
      "source": [
        "# Access certain characters using their indices (known as slicing)\n",
        "sent[0:3] # square brackets are used to extract indices/positions of elements in the string"
      ]
    },
    {
      "cell_type": "code",
      "execution_count": null,
      "metadata": {
        "id": "zbiYtgWwQDnk"
      },
      "outputs": [],
      "source": [
        "# return the location of a charactor \n",
        "sent.index(\"i\")"
      ]
    },
    {
      "cell_type": "code",
      "execution_count": null,
      "metadata": {
        "id": "m1agMiYRDif_"
      },
      "outputs": [],
      "source": [
        "# we need to change back to lower case\n",
        "sent = sent.lower()\n",
        "sent.index(\"i\")"
      ]
    },
    {
      "cell_type": "code",
      "execution_count": null,
      "metadata": {
        "id": "C5AJTwn0SJVr"
      },
      "outputs": [],
      "source": [
        "# count how many times a character is present\n",
        "sent.count(\"e\")"
      ]
    },
    {
      "cell_type": "code",
      "execution_count": null,
      "metadata": {
        "id": "8wS5zIOfR01a"
      },
      "outputs": [],
      "source": [
        "# if a character is present more than once, the first position will be returned\n",
        "sent.index(\"e\")"
      ]
    },
    {
      "cell_type": "code",
      "execution_count": null,
      "metadata": {
        "id": "TmnIx7SuSPlc"
      },
      "outputs": [],
      "source": [
        "# find and return position of first character\n",
        "sent.find(\"is\")"
      ]
    },
    {
      "cell_type": "code",
      "execution_count": null,
      "metadata": {
        "id": "p3rATJlERrXb"
      },
      "outputs": [],
      "source": [
        "# replace \n",
        "sent.replace(\"the\", \"In\")"
      ]
    },
    {
      "cell_type": "markdown",
      "metadata": {
        "id": "nRegkzRwS7cd"
      },
      "source": [
        "For more string operations and to get more practice, check out the following link: https://www.w3schools.com/python/python_ref_string.asp\n"
      ]
    },
    {
      "cell_type": "markdown",
      "metadata": {
        "id": "GgkygqGZ7V3t"
      },
      "source": [
        "### **4. Lists**\n",
        "Lists are used to store multiple items in a single variable.\n",
        "\n",
        "`Lists` are an ordered collection of elements that are assigned a unique value. Each element in a list has an index value associated with it to identify its postion in the list. You can **combine as many variables as you like**, and they could even be of multiple types. Ordinarily, unless you have a specific reason to do so, lists will contain variables of one type.\n",
        "\n",
        "You can also **iterate** over a list (use each item in a list in sequence).\n",
        "\n",
        "A list is placed between square brackets: `[]`"
      ]
    },
    {
      "cell_type": "code",
      "execution_count": null,
      "metadata": {
        "id": "43Mhij2ZU9FD"
      },
      "outputs": [],
      "source": [
        "# created using square brackets\n",
        "mylist = [1,2,3]\n",
        "print(mylist)"
      ]
    },
    {
      "cell_type": "code",
      "execution_count": null,
      "metadata": {
        "id": "2KKYfqTlVMRZ"
      },
      "outputs": [],
      "source": [
        "# append items to the list\n",
        "# note that 'append()' changes the variable and a new variable assignment is not necessary\n",
        "\n",
        "mylist.append(4)\n",
        "mylist.append(5)\n",
        "mylist.append(6)\n",
        "\n",
        "print(mylist)"
      ]
    },
    {
      "cell_type": "markdown",
      "metadata": {
        "id": "K7Fbnit-WQeU"
      },
      "source": [
        "Like with strings, you can also extract subsets of the data in a list."
      ]
    },
    {
      "cell_type": "code",
      "execution_count": null,
      "metadata": {
        "id": "lXe6f3vFVkZa"
      },
      "outputs": [],
      "source": [
        "# The first element in a Python list starts at position 0\n",
        "# similar to strings, we can use [] to extract list elements by index number\n",
        "# Here, 1:4 indicates a range; from position 1 up to BUT NOT INCLUDING position 4\n",
        "\n",
        "print(mylist[1:4])"
      ]
    },
    {
      "cell_type": "code",
      "execution_count": null,
      "metadata": {
        "id": "SfUAMUvU7e5R"
      },
      "outputs": [],
      "source": [
        "# The last item in a Python list can be addressed as -1. \n",
        "# This is helpful when you don't know how long a list is likely to be.\n",
        "print(mylist[-1])"
      ]
    },
    {
      "cell_type": "code",
      "execution_count": null,
      "metadata": {
        "id": "-CgDEdHugPMK"
      },
      "outputs": [],
      "source": [
        "# adding a third argument to the range = step size\n",
        "print(mylist[1:-1:2])"
      ]
    },
    {
      "cell_type": "markdown",
      "metadata": {
        "id": "7tsOx1fy7jxD"
      },
      "source": [
        "If you try access an item in a list that isn't there, you'll get an error."
      ]
    },
    {
      "cell_type": "code",
      "execution_count": null,
      "metadata": {
        "id": "gOndZXm-7mKm"
      },
      "outputs": [],
      "source": [
        "print(mylist[10])"
      ]
    },
    {
      "cell_type": "code",
      "execution_count": null,
      "metadata": {
        "id": "q2qQ4oODKQ7a"
      },
      "outputs": [],
      "source": [
        "# We can concatenate two lists using '+'\n",
        "even_numbers = [2, 4, 6, 8]\n",
        "uneven_numbers = [1, 3, 5, 7]\n",
        "all_numbers = uneven_numbers + even_numbers\n",
        "print(all_numbers)"
      ]
    },
    {
      "cell_type": "code",
      "execution_count": null,
      "metadata": {
        "id": "kGTek-7JpCNJ"
      },
      "outputs": [],
      "source": [
        "# You can also repeat sequences of lists\n",
        "print([1, 2, 3] * 3)"
      ]
    },
    {
      "cell_type": "markdown",
      "metadata": {
        "id": "HeVk4jvjpgbx"
      },
      "source": [
        "We can also create a list of values with datatype string"
      ]
    },
    {
      "cell_type": "code",
      "execution_count": null,
      "metadata": {
        "id": "gs1mJBjvKdO5"
      },
      "outputs": [],
      "source": [
        "friends = [\"Mary\", \"George\" , \"Ali\", \"Sher\"]\n",
        "print(friends)"
      ]
    },
    {
      "cell_type": "code",
      "execution_count": null,
      "metadata": {
        "id": "HgCl_aQ9KhW8"
      },
      "outputs": [],
      "source": [
        "friends[1]"
      ]
    },
    {
      "cell_type": "code",
      "execution_count": null,
      "metadata": {
        "id": "WyuPuBcFKiFM"
      },
      "outputs": [],
      "source": [
        "friends[0:2]"
      ]
    },
    {
      "cell_type": "code",
      "execution_count": null,
      "metadata": {
        "id": "4C06M_03Jwbw"
      },
      "outputs": [],
      "source": [
        "friends.append(\"Alicia\")\n",
        "print(friends)"
      ]
    },
    {
      "cell_type": "code",
      "execution_count": null,
      "metadata": {
        "id": "kCS5dHYbKBjH"
      },
      "outputs": [],
      "source": [
        "friends.remove(\"Sher\")\n",
        "print(friends)"
      ]
    },
    {
      "cell_type": "code",
      "execution_count": null,
      "metadata": {
        "id": "Z4-SKMAPKLRi"
      },
      "outputs": [],
      "source": [
        "#if an element is in the list? check the index\n",
        "friends.index(\"Ali\")"
      ]
    },
    {
      "cell_type": "code",
      "execution_count": null,
      "metadata": {
        "id": "Yhh-RVBtKa4z"
      },
      "outputs": [],
      "source": [
        "friends.count(\"Ali\")"
      ]
    },
    {
      "cell_type": "code",
      "execution_count": null,
      "metadata": {
        "id": "jEALboNdLSH0"
      },
      "outputs": [],
      "source": [
        "# Insert a value in a specified index position\n",
        "friends.insert(0, \"\")\n",
        "print(friends)"
      ]
    },
    {
      "cell_type": "code",
      "execution_count": null,
      "metadata": {
        "id": "Yjx4goEJKk9n"
      },
      "outputs": [],
      "source": [
        "friends.sort()\n"
      ]
    },
    {
      "cell_type": "code",
      "execution_count": null,
      "metadata": {
        "id": "aj5Z-sK1K8nh"
      },
      "outputs": [],
      "source": [
        "print(friends)\n"
      ]
    },
    {
      "cell_type": "markdown",
      "metadata": {
        "id": "suNy2lXFYiLV"
      },
      "source": [
        "We can also iterate through a list using a 'for' statement to perform some function on each element individually. (more on looping below!)\n",
        "\n",
        "Note that this is the first time that we need to run a block of code simultaneously. Python knows when parts of code need to be executed together based on the indentation. This can be either tabs or spaces (but do not mix the two)."
      ]
    },
    {
      "cell_type": "code",
      "execution_count": null,
      "metadata": {
        "id": "5Ej7hQxaWKHK"
      },
      "outputs": [],
      "source": [
        "# Note that `x` is a new variable which takes on the value of each item in the list in order.\n",
        "for x in friends:  \n",
        "  print(x)"
      ]
    },
    {
      "cell_type": "markdown",
      "metadata": {
        "id": "pvXP4jduWy16"
      },
      "source": [
        "Careful when modifying data in place: if two variables point to the same list, modifying an item in one variable will modify that item in the second variable as well. If that is undesirable, you can make a copy instead."
      ]
    },
    {
      "cell_type": "code",
      "execution_count": null,
      "metadata": {
        "id": "eU3-DZpyZYw5"
      },
      "outputs": [],
      "source": [
        "yellow_fruit = [\"lemon\", \"banana\", \"pineapple\"]\n",
        "fruit = yellow_fruit # both variables point to same list\n",
        "fruit.append(\"cherry\")\n",
        "print(yellow_fruit)"
      ]
    },
    {
      "cell_type": "code",
      "execution_count": null,
      "metadata": {
        "id": "t_yoaw0-b6UE"
      },
      "outputs": [],
      "source": [
        "yellow_fruit = [\"lemon\", \"banana\", \"pineapple\"]\n",
        "fruit = list(yellow_fruit) # creates a copy of the list\n",
        "fruit.append(\"cherry\")\n",
        "print(yellow_fruit)\n",
        "print(fruit)"
      ]
    },
    {
      "cell_type": "markdown",
      "metadata": {
        "id": "xI7lxIL5fh12"
      },
      "source": [
        "####**Nested (2D) List**\n",
        "\n",
        "Sometimes, items in a list are composed of multiple values. For such a case, nested lists can be used (i.e., lists inside a list)."
      ]
    },
    {
      "cell_type": "code",
      "execution_count": null,
      "metadata": {
        "id": "-4Z9VQ4NfzZ8"
      },
      "outputs": [],
      "source": [
        "numbers = [\n",
        "         [1,2,3],\n",
        "         [4,5,6],\n",
        "         [7,8]\n",
        "]\n",
        "numbers"
      ]
    },
    {
      "cell_type": "code",
      "execution_count": null,
      "metadata": {
        "id": "qh-4IwslXWJM"
      },
      "outputs": [],
      "source": [
        "numbers = [[1,2,3], [4,5,6],[7,8]]\n",
        "numbers"
      ]
    },
    {
      "cell_type": "markdown",
      "metadata": {
        "id": "rIwa5QUhdCnW"
      },
      "source": [
        "Extracting subsets from a nested list is a bit different."
      ]
    },
    {
      "cell_type": "code",
      "execution_count": null,
      "metadata": {
        "id": "KU5iIxZNr-Tf"
      },
      "outputs": [],
      "source": [
        "# extract elements from 2D list\n",
        "numbers[0]"
      ]
    },
    {
      "cell_type": "code",
      "execution_count": null,
      "metadata": {
        "id": "QtXho-dOdMpD"
      },
      "outputs": [],
      "source": [
        "numbers[0][0]"
      ]
    },
    {
      "cell_type": "markdown",
      "metadata": {
        "id": "11YcBpJBXe3f"
      },
      "source": [
        "With 2D lists, we can use 'for' loops to iterate through the rows and columns."
      ]
    },
    {
      "cell_type": "code",
      "execution_count": null,
      "metadata": {
        "id": "rGcGlAFggJTD"
      },
      "outputs": [],
      "source": [
        "# nested for loop\n",
        "\n",
        "for row in numbers:\n",
        "  for col in row:\n",
        "    print(col)\n",
        "    "
      ]
    },
    {
      "cell_type": "markdown",
      "metadata": {
        "id": "UQ6Qk4OttUq5"
      },
      "source": [
        "*Note that looping through lists can be very inefficient and we will make use of the library numpy in future labs.*"
      ]
    },
    {
      "cell_type": "markdown",
      "metadata": {
        "id": "wx-LlIS9Yi-b"
      },
      "source": [
        "###**5. Tuples**\n",
        "\n",
        "\n",
        "A Tuple is a collection of Python elements separated by commas. In someways a tuple is similar to a list in terms of indexing, nested objects and repetition but a tuple is **immutable** unlike lists which are mutable. \n",
        "\n",
        "With Tuples, You cannot changes or modify, delete, add them."
      ]
    },
    {
      "cell_type": "code",
      "execution_count": null,
      "metadata": {
        "id": "3GTMJ0pGZM6A"
      },
      "outputs": [],
      "source": [
        "coordinates = (118, 441)"
      ]
    },
    {
      "cell_type": "code",
      "execution_count": null,
      "metadata": {
        "id": "pqnUGpeDMZaq"
      },
      "outputs": [],
      "source": [
        "# Access the elements \n",
        "coordinates[0]"
      ]
    },
    {
      "cell_type": "code",
      "execution_count": null,
      "metadata": {
        "id": "2vM-iAs-ZsUw"
      },
      "outputs": [],
      "source": [
        "# Can we change the items?\n",
        "coordinates[1] = 6669796685"
      ]
    },
    {
      "cell_type": "code",
      "execution_count": null,
      "metadata": {
        "id": "ZPPPK223MwN1"
      },
      "outputs": [],
      "source": [
        "# use built-in function list() to list the tuple values\n",
        "print(coordinates)\n",
        "print(list(coordinates))\n"
      ]
    },
    {
      "cell_type": "code",
      "execution_count": null,
      "metadata": {
        "id": "v-r1F6JANBpO"
      },
      "outputs": [],
      "source": [
        "coordinates2 = [(1,2), (3,7), (7,5)]\n",
        "coordinates2[1]"
      ]
    }
  ],
  "metadata": {
    "colab": {
      "provenance": [],
      "include_colab_link": true
    },
    "kernelspec": {
      "display_name": "Python 3",
      "language": "python",
      "name": "python3"
    },
    "language_info": {
      "codemirror_mode": {
        "name": "ipython",
        "version": 3
      },
      "file_extension": ".py",
      "mimetype": "text/x-python",
      "name": "python",
      "nbconvert_exporter": "python",
      "pygments_lexer": "ipython3",
      "version": "3.8.5"
    },
    "accelerator": "GPU",
    "gpuClass": "standard"
  },
  "nbformat": 4,
  "nbformat_minor": 0
}